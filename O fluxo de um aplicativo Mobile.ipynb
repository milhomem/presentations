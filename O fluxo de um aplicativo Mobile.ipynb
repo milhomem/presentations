{
 "cells": [
  {
   "cell_type": "markdown",
   "metadata": {
    "slideshow": {
     "slide_type": "slide"
    }
   },
   "source": [
    "# Como funciona um App?\n",
    "\n",
    "<img src=\"http://innov8tiv.com/wp-content/uploads/2014/03/z53.jpg\">"
   ]
  },
  {
   "cell_type": "markdown",
   "metadata": {
    "slideshow": {
     "slide_type": "slide"
    }
   },
   "source": [
    "# Troca de mensagens\n",
    "\n",
    "<img src=\"http://cdn.codersgrid.com/wp-content/uploads/2013/07/REST-Web-API-with-MongoDB.png\">"
   ]
  },
  {
   "cell_type": "markdown",
   "metadata": {
    "collapsed": false,
    "slideshow": {
     "slide_type": "slide"
    }
   },
   "source": [
    "# DNS\n",
    "\n",
    "<img src=\"https://nsfocusblog.files.wordpress.com/2014/04/picture-2.jpg\">"
   ]
  },
  {
   "cell_type": "markdown",
   "metadata": {
    "slideshow": {
     "slide_type": "slide"
    }
   },
   "source": [
    "# TCP/IP\n",
    "\n",
    "<img src=\"http://www.netbraintech.com/automate-network-documentation/images/old-img/Map-Historical-Applicaiton-Flow.png\" width=\"70%\">"
   ]
  },
  {
   "cell_type": "markdown",
   "metadata": {
    "slideshow": {
     "slide_type": "slide"
    }
   },
   "source": [
    "<img src=\"http://cdn.meme.am/instances/500x/59082630.jpg\" width=\"80%\" height=\"80%\">"
   ]
  },
  {
   "cell_type": "markdown",
   "metadata": {
    "slideshow": {
     "slide_type": "slide"
    }
   },
   "source": [
    "<img src=\"http://www.quickmeme.com/img/0b/0b1b0ec2cf08fd3c841c2cf4051ffa3887284d6e3eeec6b8d24741135dc3bbd8.jpg\" height=\"100%\" width=\"90%\">"
   ]
  },
  {
   "cell_type": "markdown",
   "metadata": {
    "slideshow": {
     "slide_type": "subslide"
    }
   },
   "source": [
    "### GET /session/validate\n",
    "\n",
    "```\n",
    "    {   \n",
    "        \"last_update\": 1440839155,\n",
    "        \"app_na\": [],\n",
    "        \"rides_timeout_minutes\": 4,\n",
    "        \"is_valid\": true,\n",
    "        \"area_code\": \"SAO\",\n",
    "        \"is_epay\": true,\n",
    "        \"is_corp\": true,\n",
    "        \"country_acronym\": \"BR\",\n",
    "        \"driver_id\": \"51acd3a571cb827762000000\",\n",
    "        \"has_ride_offer\": false,\n",
    "        \"corporate_min_value\": 5,\n",
    "        \"corporate_max_value\": 1500\n",
    "    }\n",
    "```    "
   ]
  },
  {
   "cell_type": "markdown",
   "metadata": {
    "slideshow": {
     "slide_type": "slide"
    }
   },
   "source": [
    "# Protocolo HTTP\n",
    "\n",
    "- Conjunto de regras\n",
    "- Request For Comments ([RFC](https://www.ietf.org/rfc.html)) Pages\n",
    "- Versão (HTTP/1.1)\n",
    "- Message Header\n",
    "- Message Body\n",
    "- URI (http://api.easytaxi.com.br/ride)\n",
    "- Media-type (application/json)\n"
   ]
  },
  {
   "cell_type": "markdown",
   "metadata": {
    "slideshow": {
     "slide_type": "subslide"
    }
   },
   "source": [
    "\n",
    "```\n",
    "HTTP/1.1 200 OK\n",
    "Date: Sat, 03 Apr 2011 02:14:33 GMT\n",
    "Server: Apache/2.2.17 (Unix)\n",
    "Content-Type: text/html\n",
    "\n",
    "The URI requested is: /testing?foo=symfony\n",
    "The value of the \"foo\" parameter is: symfony\n",
    "```\n"
   ]
  },
  {
   "cell_type": "markdown",
   "metadata": {
    "slideshow": {
     "slide_type": "slide"
    }
   },
   "source": [
    "# Server\n",
    "<img src=\"https://upload.wikimedia.org/wikipedia/commons/7/73/Dell_PowerEdge_R610.jpg\" width=\"90%\">"
   ]
  },
  {
   "cell_type": "markdown",
   "metadata": {
    "slideshow": {
     "slide_type": "subslide"
    }
   },
   "source": [
    "<img src=\"http://media.apcmag.com/wp-content/uploads/sites/20/2008/04/serverapchowtoDSC_0001_238x179_mainImage1.jpg1.jpg\" width=\"90%\">"
   ]
  },
  {
   "cell_type": "markdown",
   "metadata": {
    "slideshow": {
     "slide_type": "slide"
    }
   },
   "source": [
    "# Docker + AWS\n",
    "\n",
    "<img src=\"http://33.media.tumblr.com/da087e7a4e37c42c9357d9846141f602/tumblr_inline_n8otvj69fU1sbfcgv.png\" width=\"80%\">"
   ]
  },
  {
   "cell_type": "markdown",
   "metadata": {
    "slideshow": {
     "slide_type": "slide"
    }
   },
   "source": [
    "# Persist the data \n",
    "\n",
    "<img src=\"http://docs.mongodb.org/manual/_images/crud-annotated-collection.png\">"
   ]
  },
  {
   "cell_type": "markdown",
   "metadata": {
    "slideshow": {
     "slide_type": "slide"
    }
   },
   "source": [
    "http://geohash.gofreerange.com/"
   ]
  },
  {
   "cell_type": "markdown",
   "metadata": {
    "slideshow": {
     "slide_type": "slide"
    }
   },
   "source": [
    "# Geonear\n",
    "\n",
    "<img src=\"http://jwilson.coe.uga.edu/EMAT6680Fa07/Cody/Assignment6/Assignment6_files/image006.png\" width=\"50%\">"
   ]
  },
  {
   "cell_type": "markdown",
   "metadata": {
    "collapsed": true,
    "slideshow": {
     "slide_type": "slide"
    }
   },
   "source": [
    "# Taxi Position\n",
    "\n",
    "<img src=\"http://image.slidesharecdn.com/trickswebsocket2014-141023085605-conversion-gate01/95/websockets-on-the-jvm-atmosphere-to-the-rescue-3-638.jpg?cb=1414054791\" width=\"80%\">\n"
   ]
  },
  {
   "cell_type": "markdown",
   "metadata": {
    "slideshow": {
     "slide_type": "slide"
    }
   },
   "source": [
    "\n",
    "\n",
    "\n",
    "\n",
    "# Perguntas ?"
   ]
  }
 ],
 "metadata": {
  "celltoolbar": "Slideshow",
  "kernelspec": {
   "display_name": "Python 2",
   "language": "python",
   "name": "python2"
  },
  "language_info": {
   "codemirror_mode": {
    "name": "ipython",
    "version": 2
   },
   "file_extension": ".py",
   "mimetype": "text/x-python",
   "name": "python",
   "nbconvert_exporter": "python",
   "pygments_lexer": "ipython2",
   "version": "2.7.10"
  }
 },
 "nbformat": 4,
 "nbformat_minor": 0
}
